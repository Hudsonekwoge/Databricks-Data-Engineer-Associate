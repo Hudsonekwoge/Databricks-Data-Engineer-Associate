{
 "cells": [
  {
   "cell_type": "markdown",
   "metadata": {
    "application/vnd.databricks.v1+cell": {
     "cellMetadata": {},
     "inputWidgets": {},
     "nuid": "b53016dd-d2d6-416e-ac64-8919d7b4cff5",
     "showTitle": false,
     "tableResultSettingsMap": {},
     "title": ""
    }
   },
   "source": [
    "# Working in the Default Schema"
   ]
  },
  {
   "cell_type": "markdown",
   "metadata": {
    "application/vnd.databricks.v1+cell": {
     "cellMetadata": {},
     "inputWidgets": {},
     "nuid": "4521481b-3e90-4df4-9a93-c17dede94aa1",
     "showTitle": false,
     "tableResultSettingsMap": {},
     "title": ""
    }
   },
   "source": [
    "## Creating managed tables\n",
    "First, we create a managed table named `managed_default` and populate it with data:"
   ]
  },
  {
   "cell_type": "code",
   "execution_count": 0,
   "metadata": {
    "application/vnd.databricks.v1+cell": {
     "cellMetadata": {
      "byteLimit": 2048000,
      "rowLimit": 10000
     },
     "collapsed": true,
     "inputWidgets": {},
     "nuid": "16020fed-b209-4118-b1bc-643c373b5805",
     "showTitle": false,
     "tableResultSettingsMap": {},
     "title": ""
    }
   },
   "outputs": [],
   "source": [
    "USE CATALOG hive_metastore;\n",
    "\n",
    "CREATE TABLE managed_default \n",
    "(\n",
    "  country STRING, code STRING, dial_code STRING\n",
    ");\n",
    "\n",
    "INSERT INTO managed_default\n",
    "VALUES (\n",
    "  'France', 'Fr', '+33'\n",
    ")"
   ]
  },
  {
   "cell_type": "markdown",
   "metadata": {
    "application/vnd.databricks.v1+cell": {
     "cellMetadata": {},
     "inputWidgets": {},
     "nuid": "c9538da2-a99a-45e6-88b3-cf5fdeb3dc78",
     "showTitle": false,
     "tableResultSettingsMap": {},
     "title": ""
    }
   },
   "source": [
    "### Describing the table\n",
    "Since we are not specifying the `LOCATION` keyword, this table is considered _managed_ in the default database.\n",
    "Executing the `DESCRIBE EXTENDED` command on the table provides advanced metadata information. Among this metadata information, we focus on three key elements:\n",
    "- The **type** of table, which is indeed `MANAGED`\n",
    "- The **location**, which shows that the table resides in the default Hive metastore under `dbfs:/user/hive/warehouse`\n",
    "- The **provider**, which confirms that this is a Delta Lake table"
   ]
  },
  {
   "cell_type": "code",
   "execution_count": 0,
   "metadata": {
    "application/vnd.databricks.v1+cell": {
     "cellMetadata": {
      "byteLimit": 2048000,
      "rowLimit": 10000
     },
     "inputWidgets": {},
     "nuid": "4f81d591-d3a2-4bb0-b41a-142d2e8783a7",
     "showTitle": false,
     "tableResultSettingsMap": {},
     "title": ""
    }
   },
   "outputs": [],
   "source": [
    "DESCRIBE EXTENDED managed_default"
   ]
  },
  {
   "cell_type": "markdown",
   "metadata": {
    "application/vnd.databricks.v1+cell": {
     "cellMetadata": {},
     "inputWidgets": {},
     "nuid": "35ed2123-a547-4039-a06f-bd104066527b",
     "showTitle": false,
     "tableResultSettingsMap": {},
     "title": ""
    }
   },
   "source": [
    "## Creating external tables\n",
    "We create an external table within the default database. To achieve this, we simply \n",
    "- Add the `LOCATION` keyword followed by \n",
    "- The desired storage path."
   ]
  },
  {
   "cell_type": "code",
   "execution_count": 0,
   "metadata": {
    "application/vnd.databricks.v1+cell": {
     "cellMetadata": {
      "byteLimit": 2048000,
      "rowLimit": 10000
     },
     "inputWidgets": {},
     "nuid": "93c6e205-c157-4111-ae32-94f0f4c41949",
     "showTitle": false,
     "tableResultSettingsMap": {},
     "title": ""
    }
   },
   "outputs": [],
   "source": [
    "CREATE TABLE external_default\n",
    "(\n",
    "  country STRING, code STRING, dial_code STRING\n",
    ")\n",
    "LOCATION 'dbfs:/mnt/demo/external_default';\n",
    "\n",
    "INSERT INTO external_default\n",
    "VALUES (\n",
    "  'France', 'Fr', '+33')"
   ]
  },
  {
   "cell_type": "markdown",
   "metadata": {
    "application/vnd.databricks.v1+cell": {
     "cellMetadata": {},
     "inputWidgets": {},
     "nuid": "17e53a75-f1f8-4fc1-a509-31dba002183f",
     "showTitle": false,
     "tableResultSettingsMap": {},
     "title": ""
    }
   },
   "source": [
    "### Describing the table\n",
    "Running `DESCRIBE EXTENDED` on the external table confirms its external nature and its storage location."
   ]
  },
  {
   "cell_type": "code",
   "execution_count": 0,
   "metadata": {
    "application/vnd.databricks.v1+cell": {
     "cellMetadata": {
      "byteLimit": 2048000,
      "rowLimit": 10000
     },
     "inputWidgets": {},
     "nuid": "5a545a9b-8b81-425c-9357-564144d67b07",
     "showTitle": false,
     "tableResultSettingsMap": {},
     "title": ""
    }
   },
   "outputs": [],
   "source": [
    "DESCRIBE EXTENDED external_default "
   ]
  },
  {
   "cell_type": "markdown",
   "metadata": {
    "application/vnd.databricks.v1+cell": {
     "cellMetadata": {},
     "inputWidgets": {},
     "nuid": "429b613a-ec63-4f9b-a1b2-8a41e02347e8",
     "showTitle": false,
     "tableResultSettingsMap": {},
     "title": ""
    }
   },
   "source": [
    "## Dropping tables\n",
    "If you want to remove tables from the database, you simply drop them using the `DROP TABLE` command. However, it is important to note that the behaviour differs for managed and external tables."
   ]
  },
  {
   "cell_type": "markdown",
   "metadata": {
    "application/vnd.databricks.v1+cell": {
     "cellMetadata": {},
     "inputWidgets": {},
     "nuid": "f718bb5e-266e-486a-8993-b711927939c5",
     "showTitle": false,
     "tableResultSettingsMap": {},
     "title": ""
    }
   },
   "source": [
    "### Dropping managed tables"
   ]
  },
  {
   "cell_type": "code",
   "execution_count": 0,
   "metadata": {
    "application/vnd.databricks.v1+cell": {
     "cellMetadata": {
      "byteLimit": 2048000,
      "rowLimit": 10000
     },
     "inputWidgets": {},
     "nuid": "866fbfde-0eae-424d-83d0-b0d3634af695",
     "showTitle": false,
     "tableResultSettingsMap": {},
     "title": ""
    }
   },
   "outputs": [],
   "source": [
    "DROP TABLE managed_default"
   ]
  },
  {
   "cell_type": "markdown",
   "metadata": {
    "application/vnd.databricks.v1+cell": {
     "cellMetadata": {},
     "inputWidgets": {},
     "nuid": "e7c8426d-13eb-485f-8acb-068331b260c6",
     "showTitle": false,
     "tableResultSettingsMap": {},
     "title": ""
    }
   },
   "source": [
    "When you drop a managed table, it deletes its metadata from the metastore. This means that the table's definition, including its schema, column names, data types, and other relevant information is no longer stored in the metastore. We can confirm this by trying to query the table: `SELECT * FROM managed_default` which results in a \"TABLE_OR_VIEW_NOT_FOUND\" error."
   ]
  },
  {
   "cell_type": "code",
   "execution_count": 0,
   "metadata": {
    "application/vnd.databricks.v1+cell": {
     "cellMetadata": {
      "byteLimit": 2048000,
      "rowLimit": 10000
     },
     "inputWidgets": {},
     "nuid": "6363406c-0cb1-4ba0-9562-6894f01fd273",
     "showTitle": false,
     "tableResultSettingsMap": {},
     "title": ""
    }
   },
   "outputs": [],
   "source": [
    "SELECT * FROM managed_default"
   ]
  },
  {
   "cell_type": "markdown",
   "metadata": {
    "application/vnd.databricks.v1+cell": {
     "cellMetadata": {},
     "inputWidgets": {},
     "nuid": "5da942bd-704e-47b9-a97f-6c1ee8147a19",
     "showTitle": false,
     "tableResultSettingsMap": {},
     "title": ""
    }
   },
   "source": [
    "Dropping a managed table not only removes its metadata from the metastore, but also deletes all associated data files from the storage. This is confirmed by a \"FileNotFoundExeption\" upon checking the table directory."
   ]
  },
  {
   "cell_type": "code",
   "execution_count": 0,
   "metadata": {
    "application/vnd.databricks.v1+cell": {
     "cellMetadata": {
      "byteLimit": 2048000,
      "rowLimit": 10000
     },
     "inputWidgets": {},
     "nuid": "88a9ba17-f5dd-435d-ba1e-15c8fc47f825",
     "showTitle": false,
     "tableResultSettingsMap": {},
     "title": ""
    }
   },
   "outputs": [],
   "source": [
    "%fs ls 'dbfs:/user/hive/warehouse/managed_default'"
   ]
  },
  {
   "cell_type": "markdown",
   "metadata": {
    "application/vnd.databricks.v1+cell": {
     "cellMetadata": {},
     "inputWidgets": {},
     "nuid": "7828c024-0614-46f3-a6b8-4e97a4ea6324",
     "showTitle": false,
     "tableResultSettingsMap": {},
     "title": ""
    }
   },
   "source": [
    "### Dropping external tables\n",
    "Dropping the external table also removes its entry from the metastore. We can confirm this by trying to query the table, which should result in a \"TABLE_OR_VIEW_NOT_FOUND\" error. However, since the underlying data is stored outside the database directory, the data files should remain intact. We can confirm that the data files of the table still persist by checking the table directory:"
   ]
  },
  {
   "cell_type": "code",
   "execution_count": 0,
   "metadata": {
    "application/vnd.databricks.v1+cell": {
     "cellMetadata": {
      "byteLimit": 2048000,
      "rowLimit": 10000
     },
     "inputWidgets": {},
     "nuid": "63bbf3ea-927c-4363-9b14-766372e23a9b",
     "showTitle": false,
     "tableResultSettingsMap": {},
     "title": ""
    }
   },
   "outputs": [],
   "source": [
    "%fs ls 'dbfs:/mnt/demo/external_default'"
   ]
  },
  {
   "cell_type": "markdown",
   "metadata": {
    "application/vnd.databricks.v1+cell": {
     "cellMetadata": {},
     "inputWidgets": {},
     "nuid": "f56c10ab-9e78-403a-bce5-30e82ef7abf2",
     "showTitle": false,
     "tableResultSettingsMap": {},
     "title": ""
    }
   },
   "source": [
    "In Databricks, you can directly access a Delta table by querying its directory using the following `SELECT` statement"
   ]
  },
  {
   "cell_type": "code",
   "execution_count": 0,
   "metadata": {
    "application/vnd.databricks.v1+cell": {
     "cellMetadata": {
      "byteLimit": 2048000,
      "rowLimit": 10000
     },
     "inputWidgets": {},
     "nuid": "61d1f6a0-7bbb-419f-907b-408fe475a1aa",
     "showTitle": false,
     "tableResultSettingsMap": {},
     "title": ""
    }
   },
   "outputs": [],
   "source": [
    "SELECT * FROM DELTA.`dbfs:/mnt/demo/external_default`"
   ]
  },
  {
   "cell_type": "markdown",
   "metadata": {
    "application/vnd.databricks.v1+cell": {
     "cellMetadata": {},
     "inputWidgets": {},
     "nuid": "f01a2830-01bb-4502-ae2f-047cea238998",
     "showTitle": false,
     "tableResultSettingsMap": {},
     "title": ""
    }
   },
   "source": [
    "You can manually remove the table directory and its content by running the `dbutils.fs.rm` function in Python:"
   ]
  },
  {
   "cell_type": "code",
   "execution_count": 0,
   "metadata": {
    "application/vnd.databricks.v1+cell": {
     "cellMetadata": {
      "byteLimit": 2048000,
      "rowLimit": 10000
     },
     "inputWidgets": {},
     "nuid": "52be91fc-3000-4c64-b77f-9e9cb5462679",
     "showTitle": false,
     "tableResultSettingsMap": {},
     "title": ""
    }
   },
   "outputs": [],
   "source": [
    "%python\n",
    "dbutils.fs.rm('dbfs:/mnt/demo/external_default', True)"
   ]
  },
  {
   "cell_type": "code",
   "execution_count": 0,
   "metadata": {
    "application/vnd.databricks.v1+cell": {
     "cellMetadata": {},
     "inputWidgets": {},
     "nuid": "48f60001-2b0d-4cb2-b16b-1478e9b1124a",
     "showTitle": false,
     "tableResultSettingsMap": {},
     "title": ""
    }
   },
   "outputs": [],
   "source": []
  },
  {
   "cell_type": "markdown",
   "metadata": {
    "application/vnd.databricks.v1+cell": {
     "cellMetadata": {},
     "inputWidgets": {},
     "nuid": "b92e5ed5-5f23-4955-882a-b062a00b9977",
     "showTitle": false,
     "tableResultSettingsMap": {},
     "title": ""
    }
   },
   "source": [
    "# Working in a New Schema"
   ]
  },
  {
   "cell_type": "markdown",
   "metadata": {
    "application/vnd.databricks.v1+cell": {
     "cellMetadata": {},
     "inputWidgets": {},
     "nuid": "8b8f42b7-92fe-4f52-a6bd-ab6d249a2def",
     "showTitle": false,
     "tableResultSettingsMap": {},
     "title": ""
    }
   },
   "source": [
    "## Creating a new database\n",
    "You can create a new database using either the `CREATE DATABASE` or `CREATE SCHEMA` syntax. "
   ]
  },
  {
   "cell_type": "code",
   "execution_count": 0,
   "metadata": {
    "application/vnd.databricks.v1+cell": {
     "cellMetadata": {
      "byteLimit": 2048000,
      "rowLimit": 10000
     },
     "inputWidgets": {},
     "nuid": "21fdd31e-5071-4b72-84f3-b35e9e6df2e9",
     "showTitle": false,
     "tableResultSettingsMap": {},
     "title": ""
    }
   },
   "outputs": [],
   "source": [
    "USE CATALOG hive_metastore;\n",
    "CREATE SCHEMA new_default"
   ]
  },
  {
   "cell_type": "markdown",
   "metadata": {
    "application/vnd.databricks.v1+cell": {
     "cellMetadata": {},
     "inputWidgets": {},
     "nuid": "7e0cb6bd-1083-4429-be61-f5dee6ed6a1b",
     "showTitle": false,
     "tableResultSettingsMap": {},
     "title": ""
    }
   },
   "source": [
    "Once created, you can inspect the database's metadata using the `DESCRIBE DATABASE EXTENDED` command. This command provides information about the database, such as its location in the underlying storage."
   ]
  },
  {
   "cell_type": "code",
   "execution_count": 0,
   "metadata": {
    "application/vnd.databricks.v1+cell": {
     "cellMetadata": {
      "byteLimit": 2048000,
      "rowLimit": 10000
     },
     "inputWidgets": {},
     "nuid": "b7f42464-0c2c-42c1-ab26-ac7cfdfb0b51",
     "showTitle": false,
     "tableResultSettingsMap": {},
     "title": ""
    }
   },
   "outputs": [],
   "source": [
    "DESCRIBE DATABASE EXTENDED new_default"
   ]
  },
  {
   "cell_type": "markdown",
   "metadata": {
    "application/vnd.databricks.v1+cell": {
     "cellMetadata": {},
     "inputWidgets": {},
     "nuid": "8a6179a8-064b-488a-8fc2-4ecb8e14cc2e",
     "showTitle": false,
     "tableResultSettingsMap": {},
     "title": ""
    }
   },
   "source": [
    "The new database is stored under the default Hive directory with a `.db` extension to distinguish it from other table folders in the directory."
   ]
  },
  {
   "cell_type": "markdown",
   "metadata": {
    "application/vnd.databricks.v1+cell": {
     "cellMetadata": {},
     "inputWidgets": {},
     "nuid": "826e6204-da6a-4f39-b389-f72a2a580c6d",
     "showTitle": false,
     "tableResultSettingsMap": {},
     "title": ""
    }
   },
   "source": [
    "### Creating tables in the new database\n",
    "To create tables within a database, you need first to set it as the current schema by specifying its name through the `USE DATABASE` keyword."
   ]
  },
  {
   "cell_type": "code",
   "execution_count": 0,
   "metadata": {
    "application/vnd.databricks.v1+cell": {
     "cellMetadata": {
      "byteLimit": 2048000,
      "rowLimit": 10000
     },
     "inputWidgets": {},
     "nuid": "dc8f9f04-cc13-40fc-8816-7129ce2735da",
     "showTitle": false,
     "tableResultSettingsMap": {},
     "title": ""
    }
   },
   "outputs": [],
   "source": [
    "USE DATABASE new_default;\n",
    "/* Create a managed table*/\n",
    "\n",
    "CREATE TABLE managed_new_default \n",
    "(\n",
    "  country STRING, code STRING, dial_code STRING\n",
    ");\n",
    "\n",
    "INSERT INTO managed_new_default \n",
    "VALUES (\n",
    "  'France', 'Fr', '+33'\n",
    ");\n",
    "\n",
    "/* Create an external table */\n",
    "\n",
    "CREATE TABLE external_new_default\n",
    "(\n",
    "  country STRING, code STRING, dial_code STRING\n",
    ")\n",
    "LOCATION 'dbfs:/mnt/demo/external_new_default';\n",
    "\n",
    "INSERT INTO external_new_default\n",
    "VALUES (\n",
    "  'France', 'Fr', '+33');"
   ]
  },
  {
   "cell_type": "markdown",
   "metadata": {
    "application/vnd.databricks.v1+cell": {
     "cellMetadata": {},
     "inputWidgets": {},
     "nuid": "f0f09c4e-622b-4061-96fa-1f8ed168fec9",
     "showTitle": false,
     "tableResultSettingsMap": {},
     "title": ""
    }
   },
   "source": [
    "By running `DESCRIBE EXTENDED` on each of these tables, we can see that the first table is indeed a managed table created in its database folder under the default Hive directory:"
   ]
  },
  {
   "cell_type": "code",
   "execution_count": 0,
   "metadata": {
    "application/vnd.databricks.v1+cell": {
     "cellMetadata": {
      "byteLimit": 2048000,
      "rowLimit": 10000
     },
     "inputWidgets": {},
     "nuid": "a984f57e-637c-4dbd-ab28-009a06e4262b",
     "showTitle": false,
     "tableResultSettingsMap": {},
     "title": ""
    }
   },
   "outputs": [],
   "source": [
    "DESCRIBE EXTENDED managed_new_default"
   ]
  },
  {
   "cell_type": "markdown",
   "metadata": {
    "application/vnd.databricks.v1+cell": {
     "cellMetadata": {},
     "inputWidgets": {},
     "nuid": "3ba326de-5933-448e-81bf-d15c6ccfd47f",
     "showTitle": false,
     "tableResultSettingsMap": {},
     "title": ""
    }
   },
   "source": [
    "The second table, where we used the `LOCATION` keyword, has been defined as an external table under the `/mnt/demo/` location"
   ]
  },
  {
   "cell_type": "code",
   "execution_count": 0,
   "metadata": {
    "application/vnd.databricks.v1+cell": {
     "cellMetadata": {
      "byteLimit": 2048000,
      "rowLimit": 10000
     },
     "inputWidgets": {},
     "nuid": "642e0786-9950-4438-83cd-d520227c38de",
     "showTitle": false,
     "tableResultSettingsMap": {},
     "title": ""
    }
   },
   "outputs": [],
   "source": [
    "DESCRIBE EXTENDED external_new_default"
   ]
  },
  {
   "cell_type": "markdown",
   "metadata": {
    "application/vnd.databricks.v1+cell": {
     "cellMetadata": {},
     "inputWidgets": {},
     "nuid": "e70892c2-3de1-4d88-8d9a-412e24603cc3",
     "showTitle": false,
     "tableResultSettingsMap": {},
     "title": ""
    }
   },
   "source": [
    "## Dropping tables"
   ]
  },
  {
   "cell_type": "code",
   "execution_count": 0,
   "metadata": {
    "application/vnd.databricks.v1+cell": {
     "cellMetadata": {
      "byteLimit": 2048000,
      "rowLimit": 10000
     },
     "inputWidgets": {},
     "nuid": "c1fe5724-5574-4582-a311-4315bf326b6e",
     "showTitle": false,
     "tableResultSettingsMap": {},
     "title": ""
    }
   },
   "outputs": [],
   "source": [
    "DROP TABLE managed_new_default;\n",
    "DROP TABLE external_new_default;"
   ]
  },
  {
   "cell_type": "markdown",
   "metadata": {
    "application/vnd.databricks.v1+cell": {
     "cellMetadata": {},
     "inputWidgets": {},
     "nuid": "5fc0e147-ac93-415a-b3a5-f85a0c79669d",
     "showTitle": false,
     "tableResultSettingsMap": {},
     "title": ""
    }
   },
   "source": [
    "Dropping the tables removes their entries from the Hive metastore. Moreover, this action on the managed table results in the removal of its directory and associated data files, from the storage:"
   ]
  },
  {
   "cell_type": "code",
   "execution_count": 0,
   "metadata": {
    "application/vnd.databricks.v1+cell": {
     "cellMetadata": {
      "byteLimit": 2048000,
      "rowLimit": 10000
     },
     "inputWidgets": {},
     "nuid": "b6d35e52-bfab-4e97-b636-c36a6e91020b",
     "showTitle": false,
     "tableResultSettingsMap": {},
     "title": ""
    }
   },
   "outputs": [],
   "source": [
    "%fs ls 'dbfs:/user/hive/warehouse/new_default.db/managed_new_default'"
   ]
  },
  {
   "cell_type": "markdown",
   "metadata": {
    "application/vnd.databricks.v1+cell": {
     "cellMetadata": {},
     "inputWidgets": {},
     "nuid": "a348ea4e-15d6-4e61-9d64-ba6c2e60fd44",
     "showTitle": false,
     "tableResultSettingsMap": {},
     "title": ""
    }
   },
   "source": [
    "However, as expected, in the case of the external table, although the table itself is dropped from the database, the directory and its data files persist in the specified external location"
   ]
  },
  {
   "cell_type": "code",
   "execution_count": 0,
   "metadata": {
    "application/vnd.databricks.v1+cell": {
     "cellMetadata": {
      "byteLimit": 2048000,
      "rowLimit": 10000
     },
     "inputWidgets": {},
     "nuid": "c7504839-ba22-4c27-96bf-d609b1b0e8c4",
     "showTitle": false,
     "tableResultSettingsMap": {},
     "title": ""
    }
   },
   "outputs": [],
   "source": [
    "%fs ls 'dbfs:/mnt/demo/external_new_default'"
   ]
  },
  {
   "cell_type": "markdown",
   "metadata": {
    "application/vnd.databricks.v1+cell": {
     "cellMetadata": {},
     "inputWidgets": {},
     "nuid": "346f7cba-402c-4775-823f-c6f78d8c6abe",
     "showTitle": false,
     "tableResultSettingsMap": {},
     "title": ""
    }
   },
   "source": [
    "# Working in a Custom-Location Schema\n",
    "In the last scenario, we will create a database in a custom location outside of the default Hive directory."
   ]
  },
  {
   "cell_type": "markdown",
   "metadata": {
    "application/vnd.databricks.v1+cell": {
     "cellMetadata": {},
     "inputWidgets": {},
     "nuid": "36fbb938-a406-4493-95a7-52b081448926",
     "showTitle": false,
     "tableResultSettingsMap": {},
     "title": ""
    }
   },
   "source": [
    "## Creating the database\n",
    "To achieve this, we begin by using the `CREATE SCHEMA` statement and we add the `LOCATION` keyword followed by the desired storage path:"
   ]
  },
  {
   "cell_type": "code",
   "execution_count": 0,
   "metadata": {
    "application/vnd.databricks.v1+cell": {
     "cellMetadata": {
      "byteLimit": 2048000,
      "rowLimit": 10000
     },
     "inputWidgets": {},
     "nuid": "f436d11f-9a39-4fd6-8700-4a8cbf7d35b8",
     "showTitle": false,
     "tableResultSettingsMap": {},
     "title": ""
    }
   },
   "outputs": [],
   "source": [
    "CREATE SCHEMA custom\n",
    "LOCATION 'dbfs:/Shared/schemas/custom.db'"
   ]
  },
  {
   "cell_type": "markdown",
   "metadata": {
    "application/vnd.databricks.v1+cell": {
     "cellMetadata": {},
     "inputWidgets": {},
     "nuid": "96a0ea63-8d9c-4768-9b40-2860653c9cb1",
     "showTitle": false,
     "tableResultSettingsMap": {},
     "title": ""
    }
   },
   "source": [
    "Upon closer examination, using the `DESCRIBE DATABASE EXTENDED` command, we confirm that the database is located in the custom location we specified:"
   ]
  },
  {
   "cell_type": "code",
   "execution_count": 0,
   "metadata": {
    "application/vnd.databricks.v1+cell": {
     "cellMetadata": {
      "byteLimit": 2048000,
      "rowLimit": 10000
     },
     "inputWidgets": {},
     "nuid": "ae706000-1e81-4a4e-b7af-617155a15af0",
     "showTitle": false,
     "tableResultSettingsMap": {},
     "title": ""
    }
   },
   "outputs": [],
   "source": [
    "DESCRIBE DATABASE EXTENDED custom"
   ]
  },
  {
   "cell_type": "markdown",
   "metadata": {
    "application/vnd.databricks.v1+cell": {
     "cellMetadata": {},
     "inputWidgets": {},
     "nuid": "24993103-b7c1-4b39-8405-23a2c1600051",
     "showTitle": false,
     "tableResultSettingsMap": {},
     "title": ""
    }
   },
   "source": [
    "## Creating tables\n",
    "We proceed to use this database to create both managed and external tables."
   ]
  },
  {
   "cell_type": "code",
   "execution_count": 0,
   "metadata": {
    "application/vnd.databricks.v1+cell": {
     "cellMetadata": {
      "byteLimit": 2048000,
      "rowLimit": 10000
     },
     "inputWidgets": {},
     "nuid": "0755ed9d-edda-43e1-9e4e-807bcf817c18",
     "showTitle": false,
     "tableResultSettingsMap": {},
     "title": ""
    }
   },
   "outputs": [],
   "source": [
    "USE DATABASE custom;\n",
    "/* Create a managed table */\n",
    "\n",
    "CREATE TABLE managed_custom (\n",
    "  country STRING, code STRING, dial_code STRING\n",
    ");\n",
    "\n",
    "INSERT INTO managed_custom\n",
    "VALUES (\n",
    "  'France', 'Fr', '+33'\n",
    ");\n",
    "\n",
    "/* Create an external table */\n",
    "\n",
    "CREATE TABLE external_custom\n",
    "(\n",
    "  country STRING, code STRING, dial_code STRING\n",
    ")\n",
    "LOCATION 'dbfs:/mnt/demo/external_custom';\n",
    "\n",
    "INSERT INTO external_custom\n",
    "VALUES (\n",
    "  'France', 'Fr', '+33');"
   ]
  },
  {
   "cell_type": "markdown",
   "metadata": {
    "application/vnd.databricks.v1+cell": {
     "cellMetadata": {},
     "inputWidgets": {},
     "nuid": "db32acd6-d3e8-45e0-9a27-c32f2527be3a",
     "showTitle": false,
     "tableResultSettingsMap": {},
     "title": ""
    }
   },
   "source": [
    "We can confirm that the `managed_custom` table is indeed a managed table, since it was created in its database folder located in the custom location."
   ]
  },
  {
   "cell_type": "code",
   "execution_count": 0,
   "metadata": {
    "application/vnd.databricks.v1+cell": {
     "cellMetadata": {
      "byteLimit": 2048000,
      "rowLimit": 10000
     },
     "inputWidgets": {},
     "nuid": "beb3f506-8902-4efa-9f71-c1027b7af34e",
     "showTitle": false,
     "tableResultSettingsMap": {},
     "title": ""
    }
   },
   "outputs": [],
   "source": [
    "DESCRIBE EXTENDED managed_custom;"
   ]
  },
  {
   "cell_type": "markdown",
   "metadata": {
    "application/vnd.databricks.v1+cell": {
     "cellMetadata": {},
     "inputWidgets": {},
     "nuid": "28785612-a67f-4d45-9d66-522fe645e44c",
     "showTitle": false,
     "tableResultSettingsMap": {},
     "title": ""
    }
   },
   "source": [
    "The `external_custom` table is an external table because its location was specified during table creation."
   ]
  },
  {
   "cell_type": "code",
   "execution_count": 0,
   "metadata": {
    "application/vnd.databricks.v1+cell": {
     "cellMetadata": {
      "byteLimit": 2048000,
      "rowLimit": 10000
     },
     "inputWidgets": {},
     "nuid": "216b132b-325f-47e8-b74a-a9f7b9a98dec",
     "showTitle": false,
     "tableResultSettingsMap": {},
     "title": ""
    }
   },
   "outputs": [],
   "source": [
    "DESCRIBE EXTENDED external_custom;"
   ]
  },
  {
   "cell_type": "markdown",
   "metadata": {
    "application/vnd.databricks.v1+cell": {
     "cellMetadata": {},
     "inputWidgets": {},
     "nuid": "654f871a-3455-430b-b04b-79a6e5d21618",
     "showTitle": false,
     "tableResultSettingsMap": {},
     "title": ""
    }
   },
   "source": [
    "## Dropping tables"
   ]
  },
  {
   "cell_type": "code",
   "execution_count": 0,
   "metadata": {
    "application/vnd.databricks.v1+cell": {
     "cellMetadata": {
      "byteLimit": 2048000,
      "rowLimit": 10000
     },
     "inputWidgets": {},
     "nuid": "6de85b54-9f84-49e0-bf62-e851b0b77840",
     "showTitle": false,
     "tableResultSettingsMap": {},
     "title": ""
    }
   },
   "outputs": [],
   "source": [
    "DROP TABLE managed_custom;\n",
    "DROP TABLE external_custom;"
   ]
  },
  {
   "cell_type": "code",
   "execution_count": 0,
   "metadata": {
    "application/vnd.databricks.v1+cell": {
     "cellMetadata": {
      "byteLimit": 2048000,
      "rowLimit": 10000
     },
     "inputWidgets": {},
     "nuid": "e5cc789e-6232-4a78-803e-05228e2030df",
     "showTitle": false,
     "tableResultSettingsMap": {},
     "title": ""
    }
   },
   "outputs": [],
   "source": [
    "%python\n",
    "dbutils.fs.rm('dbfs:/mnt/demo/external_custom', True)"
   ]
  },
  {
   "cell_type": "markdown",
   "metadata": {
    "application/vnd.databricks.v1+cell": {
     "cellMetadata": {},
     "inputWidgets": {},
     "nuid": "f7cbb9b1-add2-4429-ba10-7ccfa93c55c6",
     "showTitle": false,
     "tableResultSettingsMap": {},
     "title": ""
    }
   },
   "source": [
    "# Setting Up Delta Tables"
   ]
  },
  {
   "cell_type": "markdown",
   "metadata": {
    "application/vnd.databricks.v1+cell": {
     "cellMetadata": {},
     "inputWidgets": {},
     "nuid": "022bf585-d08f-4b23-9a9d-2b4634386f3a",
     "showTitle": false,
     "tableResultSettingsMap": {},
     "title": ""
    }
   },
   "source": [
    "## Create Table As SELECT\n",
    "CTAS statements allow the creation and population of tables at the same time based on the results of a `SELECT` query. Therefore, with CTAS statements you can create a new table from existing data sources. For example in the\n",
    "`CREATE TABLE table_2 AS SELECT * FROM table_1` \n",
    "statement, we are creating `table_2 by` selecting all data from `table_1`.\n",
    "\n",
    "CTAS statements automatically **infer schema information** from the query results, eliminating the need for manual schema declaration."
   ]
  },
  {
   "cell_type": "markdown",
   "metadata": {
    "application/vnd.databricks.v1+cell": {
     "cellMetadata": {},
     "inputWidgets": {},
     "nuid": "d529d329-9e6f-43a7-a5fe-a1afccd19a29",
     "showTitle": false,
     "tableResultSettingsMap": {},
     "title": ""
    }
   },
   "source": [
    "### CTAS statements in Databricks\n",
    "CTAS statements in Databricks offer a consistent means to perform transformation of data during the creation of Delta tables. These transformations can include tasks such as \n",
    "- Renaming columns; or\n",
    "- Selecting specific columns for inclusion in the target table.\n",
    "\n",
    "`CREATE TABLE table_2 AS SELECT col_1, col_3 AS new_col_3 FROM table_1`\n",
    "The CTAS statement generates a new table named `table_2`, by selecting columns `col_1` and `col_3`. Additionally, `col_3` is renamed to `new_col_3` in the resulting table.\n",
    "\n",
    "Moreover, a range of options can be added to the `CREATE TABLE` clause to customise table creation, allowing for precise control over table properties and storage configurations.\n",
    "\n",
    "`CREATE TABLE new_users\n",
    "  COMMENT \"Contains PII\"\n",
    "  PARTITIONED BY (city, birthday_date)\n",
    "  LOCATION 'some/path'\n",
    "  AS SELECT id, name, email, birth_date, city FROM users`\n",
    "\n",
    "**Comment**\n",
    "The COMMENT clause enables you to provide a descriptive comment for the table, helping in the discovery and understanding of its contents.\n",
    "\n",
    "**Partitioning**\n",
    "The underlying data of the table can be partitioned into subfolders. The PARTITIONED BY clause allows for data partitioning based on one or more columns. Partitioning can significantly enhance the performance of Delta tables by facilitating efficient data retrieval. However, for small to medium-sized tables, the benefits of partitioning may be negligible or outweighed by drawbacks. One significant drawback is the potential emergence of what is known as the \"small files problem.\" This problem arises when data partitioning results in the creation of numerous small files, each containing a relatively small amount of data. \n",
    "Partitioning aims to improve query performance by reducing the amount of data scanned, but the presence of many small files can prevent file compaction and efficiency in data skipping. \n",
    "In general, partitioning should be selectively applied based on the size and nature of the data.\n",
    "\n",
    "**External location**\n",
    "The `LOCATION` option enables the creation of external tables."
   ]
  },
  {
   "cell_type": "markdown",
   "metadata": {
    "application/vnd.databricks.v1+cell": {
     "cellMetadata": {},
     "inputWidgets": {},
     "nuid": "80a8d66e-1336-41b1-98fe-494463c6907b",
     "showTitle": false,
     "tableResultSettingsMap": {},
     "title": ""
    }
   },
   "source": [
    "### Comparing CREATE TABLE and CTAS\n",
    "\n",
    "|                        | **CREATE TABLE statement**                                           | **CTAS statement**                                                                 |\n",
    "|------------------------|----------------------------------------------------------------------|-------------------------------------------------------------------------------------|\n",
    "| **Example**            | `CREATE TABLE table_2 (col1 INT, col2 STRING, col3 DOUBLE)`          | `CREATE TABLE table_2 AS SELECT col1, col2, col3 FROM table_1`                     |\n",
    "| **Schema declaration** | Requires manual schema declaration.                                 | Does not allow manual schema declaration. It automatically infers the table schema. |\n",
    "| **Populating data**    | Creates an empty table; a data loading statement, such as `INSERT INTO`, is required to populate it. | The table is created with data as specified.                      |"
   ]
  },
  {
   "cell_type": "markdown",
   "metadata": {
    "application/vnd.databricks.v1+cell": {
     "cellMetadata": {},
     "inputWidgets": {},
     "nuid": "545ede00-80f5-43f3-9c9d-e303793e0d7a",
     "showTitle": false,
     "tableResultSettingsMap": {},
     "title": ""
    }
   },
   "source": [
    "## Table Constraints\n",
    "After creating a Delta Lake table, either through the CREATE TABLE statement or a CTAS statement, you have the option to enhance its integrity by adding **constraints**. Databricks currently supports two types of constraints:\n",
    "- **NOT NULL** constrains\n",
    "- **CHECK** contraints\n",
    "\n",
    "`ALTER TABLE table_name ADD CONSTRAINTS <constraint_name> <constraint_detail>`\n",
    "\n",
    "When applying constraints to a Delta table, ensure that the existing data in the table adheres to these constraints before defining them; otherwise, the statement will fail. \n",
    "Once a constraint is enforced, any new data that violates the constraint will result in a **write failure**.\n",
    "\n",
    "Suppose you want to ensure that dates in the `date` column fall within a specific range. **CHECK constraints** define conditions that incoming data must satisfy in order to be accepted in the table.\n",
    "\n",
    "`ALTER TABLE my_table ADD CONSTRAINT valid_date CHECK (date >= '2024-01-01' AND date <= '2024-12-31');`\n",
    "\n",
    "`valid_date` is the name of our constraint, and the condition ensures that the date column values fall within the specified range for the year 2024. Any attempt to insert or update data with dates outside this range will be rejected. This helps maintain data consistency and integrity within the Delta Lake table."
   ]
  },
  {
   "cell_type": "markdown",
   "metadata": {
    "application/vnd.databricks.v1+cell": {
     "cellMetadata": {},
     "inputWidgets": {},
     "nuid": "efe59e8c-7d50-4441-ba38-ae91d1b14547",
     "showTitle": false,
     "tableResultSettingsMap": {},
     "title": ""
    }
   },
   "source": [
    "## Cloning Delta Lake Tables\n",
    "In Databricks, if you need to backup or duplicate your Delta Lake table, you have two efficient options:\n",
    "- Deep clone\n",
    "- Shallow clone"
   ]
  },
  {
   "cell_type": "markdown",
   "metadata": {
    "application/vnd.databricks.v1+cell": {
     "cellMetadata": {},
     "inputWidgets": {},
     "nuid": "b3228123-4660-4d87-8e0b-de138cbbe2b1",
     "showTitle": false,
     "tableResultSettingsMap": {},
     "title": ""
    }
   },
   "source": [
    "### Deep Clone\n",
    "It involves copying both data and metadata from a source table to a target.\n",
    "\n",
    "`CREATE TABLE table_clone DEEP CLONE source_table`\n",
    "\n",
    "It is important to note that because in deep cloning, all the data must be copied over, this process may take quite a while, especially for large source tables."
   ]
  },
  {
   "cell_type": "markdown",
   "metadata": {
    "application/vnd.databricks.v1+cell": {
     "cellMetadata": {},
     "inputWidgets": {},
     "nuid": "79bc7585-fb50-4678-aec1-a26fb7aafd8e",
     "showTitle": false,
     "tableResultSettingsMap": {},
     "title": ""
    }
   },
   "source": [
    "### Shallow Clone\n",
    "It creates a new Delta table that **shares** the data files (Parquet) from the source table. Only the metadata is copied. It is fast and uses minimal storage. If you drop the source table or files, the clone may break or become incomplete. It is best for rapid development or testing; or creating lightweight staging environments. \n",
    "\n",
    "`CREATE TABLE table_clone SHALLOW CLONE source_table`"
   ]
  },
  {
   "cell_type": "markdown",
   "metadata": {
    "application/vnd.databricks.v1+cell": {
     "cellMetadata": {},
     "inputWidgets": {},
     "nuid": "1cfc315f-46df-41e8-896d-7e9068c313dd",
     "showTitle": false,
     "tableResultSettingsMap": {},
     "title": ""
    }
   },
   "source": [
    "# Exploring Views\n",
    "SQL views are virtual tables created by saving an SQL query that dynamically presents data from one or more underlying tables without storing the data itself. They behave like real tables in terms of rows and columns but do not physically hold data; instead, the data is retrieved fresh each time the view is queried.  "
   ]
  },
  {
   "cell_type": "markdown",
   "metadata": {
    "application/vnd.databricks.v1+cell": {
     "cellMetadata": {},
     "inputWidgets": {},
     "nuid": "4169bc33-1a07-4e72-ab6d-4445dcf60c56",
     "showTitle": false,
     "tableResultSettingsMap": {},
     "title": ""
    }
   },
   "source": [
    "## Key characteristics of SQL views\n",
    "- **Virtual table** : A view is based on the result of a SELECT statement.\n",
    "- **Dynamic data**: The data shown by a view is always up-to-date because the database runs the underlying query whenever the view is accessed. \n",
    "- **Simplify complex queries**: Views can encapsulate joins, filters, and calculations, making it easier for users to query complex data structures without writing complicated SQL repeatedly.\n",
    "- **Security**: Views can restrict user access to specific rows or columns, enhancing data security by exposing only necessary information."
   ]
  },
  {
   "cell_type": "markdown",
   "metadata": {
    "application/vnd.databricks.v1+cell": {
     "cellMetadata": {},
     "inputWidgets": {},
     "nuid": "91a2d608-31f3-46f8-adf9-0a66d9efc059",
     "showTitle": false,
     "tableResultSettingsMap": {},
     "title": ""
    }
   },
   "source": [
    "To demonstrate how views function within Databricks, we will start by creating a table of data called `cars`. This table contains columns for the ID, model, brand, and release year of the cars."
   ]
  },
  {
   "cell_type": "code",
   "execution_count": 0,
   "metadata": {
    "application/vnd.databricks.v1+cell": {
     "cellMetadata": {
      "byteLimit": 2048000,
      "rowLimit": 10000
     },
     "inputWidgets": {},
     "nuid": "4a200fa3-7466-48cc-a014-19bff315ed63",
     "showTitle": false,
     "tableResultSettingsMap": {},
     "title": ""
    }
   },
   "outputs": [],
   "source": [
    "USE CATALOG hive_metastore;\n",
    "\n",
    "CREATE TABLE IF NOT EXISTS cars\n",
    "(id INT, model STRING, brand STRING, year INT);\n",
    "\n",
    "INSERT INTO cars\n",
    "VALUES (1, 'Cybertruck', 'Tesla', 2024),\n",
    "     (2, 'Model S', 'Tesla', 2023),\n",
    "     (3, 'Model Y', 'Tesla', 2022),\n",
    "     (4, 'Model X 75D', 'Tesla', 2017),\n",
    "     (5, 'G-Class G63', 'Mercedes-Benz', 2024),\n",
    "     (6, 'E-Class E200', 'Mercedes-Benz', 2023),\n",
    "     (7, 'C-Class C300', 'Mercedes-Benz', 2016),\n",
    "     (8, 'Everest', 'Ford', 2023),\n",
    "     (9, 'Puma', 'Ford', 2021),\n",
    "     (10, 'Focus', 'Ford', 2019)"
   ]
  },
  {
   "cell_type": "markdown",
   "metadata": {
    "application/vnd.databricks.v1+cell": {
     "cellMetadata": {},
     "inputWidgets": {},
     "nuid": "0ff51f13-d253-4749-91d2-0872a342c828",
     "showTitle": false,
     "tableResultSettingsMap": {},
     "title": ""
    }
   },
   "source": [
    "We can use the SHOW TABLES command to list all tables and views in the default database:"
   ]
  },
  {
   "cell_type": "code",
   "execution_count": 0,
   "metadata": {
    "application/vnd.databricks.v1+cell": {
     "cellMetadata": {
      "byteLimit": 2048000,
      "rowLimit": 10000
     },
     "inputWidgets": {},
     "nuid": "1480628f-e672-44a4-997b-d34400062e9a",
     "showTitle": false,
     "tableResultSettingsMap": {},
     "title": ""
    }
   },
   "outputs": [],
   "source": [
    "SHOW TABLES  "
   ]
  },
  {
   "cell_type": "markdown",
   "metadata": {
    "application/vnd.databricks.v1+cell": {
     "cellMetadata": {},
     "inputWidgets": {},
     "nuid": "8fb528f6-81b1-4883-a130-523b4bf9224c",
     "showTitle": false,
     "tableResultSettingsMap": {},
     "title": ""
    }
   },
   "source": [
    "## View types\n",
    "There are three types of views available in Databricks:\n",
    "- Stored views\n",
    "- Temporary views\n",
    "- Global temporary views"
   ]
  },
  {
   "cell_type": "markdown",
   "metadata": {
    "application/vnd.databricks.v1+cell": {
     "cellMetadata": {},
     "inputWidgets": {},
     "nuid": "8e3b583b-b2b0-400a-9192-945399cc7be4",
     "showTitle": false,
     "tableResultSettingsMap": {},
     "title": ""
    }
   },
   "source": [
    "### Stored views\n",
    "Stored views are views similar to traditional database views. They are objects whose metadata is persisted in the database. \n",
    "\n",
    "To create a stored view, you use the `CREATE VIEW` statement followed by the `AS` keyword and the logical SQL query defining the view:\n",
    "\n",
    "`CREATE VIEW view_name AS <query>`\n",
    "\n",
    "Let's create a stored view that displays only Tesla cars from our `cars` table. We use the CREATE VIEW statement, naming our view `view_tesla_cars`:"
   ]
  },
  {
   "cell_type": "code",
   "execution_count": 0,
   "metadata": {
    "application/vnd.databricks.v1+cell": {
     "cellMetadata": {
      "byteLimit": 2048000,
      "rowLimit": 10000
     },
     "inputWidgets": {},
     "nuid": "64fda6c2-3ba7-40db-9373-658968433183",
     "showTitle": false,
     "tableResultSettingsMap": {},
     "title": ""
    }
   },
   "outputs": [],
   "source": [
    "CREATE VIEW view_tesla_cars \n",
    "AS SELECT * FROM cars WHERE brand = 'Tesla'"
   ]
  },
  {
   "cell_type": "markdown",
   "metadata": {
    "application/vnd.databricks.v1+cell": {
     "cellMetadata": {},
     "inputWidgets": {},
     "nuid": "35b4d696-3d0d-4cc7-ba52-ea4a197329ba",
     "showTitle": false,
     "tableResultSettingsMap": {},
     "title": ""
    }
   },
   "source": [
    "Running the `SHOW TABLES` command confirms that the view has been persisted in the default database and it is not a temporary object, as shown in the `isTemporary` column."
   ]
  },
  {
   "cell_type": "code",
   "execution_count": 0,
   "metadata": {
    "application/vnd.databricks.v1+cell": {
     "cellMetadata": {
      "byteLimit": 2048000,
      "rowLimit": 10000
     },
     "inputWidgets": {},
     "nuid": "dd9f992d-ffa1-4148-b567-4d4727b1fb98",
     "showTitle": false,
     "tableResultSettingsMap": {},
     "title": ""
    }
   },
   "outputs": [],
   "source": [
    "SHOW TABLES"
   ]
  },
  {
   "cell_type": "markdown",
   "metadata": {
    "application/vnd.databricks.v1+cell": {
     "cellMetadata": {},
     "inputWidgets": {},
     "nuid": "e05b2f69-4093-4f33-88a4-3d7118b29592",
     "showTitle": false,
     "tableResultSettingsMap": {},
     "title": ""
    }
   },
   "source": [
    "Once created, you can query the stored view using a standard SELECT statement, treating it as if it were a table object."
   ]
  },
  {
   "cell_type": "code",
   "execution_count": 0,
   "metadata": {
    "application/vnd.databricks.v1+cell": {
     "cellMetadata": {
      "byteLimit": 2048000,
      "rowLimit": 10000
     },
     "inputWidgets": {},
     "nuid": "f9181918-e801-4d67-837d-00bdae72eb48",
     "showTitle": false,
     "tableResultSettingsMap": {},
     "title": ""
    }
   },
   "outputs": [],
   "source": [
    "SELECT * FROM view_tesla_cars"
   ]
  },
  {
   "cell_type": "markdown",
   "metadata": {
    "application/vnd.databricks.v1+cell": {
     "cellMetadata": {},
     "inputWidgets": {},
     "nuid": "e9cba494-9a02-4917-8c45-5416b8a05f18",
     "showTitle": false,
     "tableResultSettingsMap": {},
     "title": ""
    }
   },
   "source": [
    "It is worth noting that this result is retrieved directly from the `cars` table. Each time the view is queried, its underlying logical query is actually executed against the source table, this case, the `cars` table."
   ]
  },
  {
   "cell_type": "markdown",
   "metadata": {
    "application/vnd.databricks.v1+cell": {
     "cellMetadata": {},
     "inputWidgets": {},
     "nuid": "6abe94dd-725c-4872-8be4-6348d5d6e1ad",
     "showTitle": false,
     "tableResultSettingsMap": {},
     "title": ""
    }
   },
   "source": [
    "### Temporary views\n",
    "They are bound to the Spark session and automatically dropped when the session ends. \n",
    "They are handy for temporary data manipulations or analyses.\n",
    "To create a temporary view, you simply add the `TEMPORARY` or `TEMP` keyword to the CREATE VIEW command:\n",
    "\n",
    "`CREATE TEMP VIEW view_name AS <query>`\n",
    "\n",
    "Let's create a temporary view called `temp_view_cars_brands`. This temporary view simply retrieves the unique list of brands from our `cars` table."
   ]
  },
  {
   "cell_type": "code",
   "execution_count": 0,
   "metadata": {
    "application/vnd.databricks.v1+cell": {
     "cellMetadata": {
      "byteLimit": 2048000,
      "rowLimit": 10000
     },
     "inputWidgets": {},
     "nuid": "a48838e6-97c7-4bb1-aa68-a1e4d81fc360",
     "showTitle": false,
     "tableResultSettingsMap": {},
     "title": ""
    }
   },
   "outputs": [],
   "source": [
    "CREATE TEMP VIEW temp_view_cars_brands AS SELECT DISTINCT brand from cars; \n",
    "SELECT * FROM temp_view_cars_brands"
   ]
  },
  {
   "cell_type": "markdown",
   "metadata": {
    "application/vnd.databricks.v1+cell": {
     "cellMetadata": {},
     "inputWidgets": {},
     "nuid": "8f979a69-f6e4-4779-b2d9-40347a1382c4",
     "showTitle": false,
     "tableResultSettingsMap": {},
     "title": ""
    }
   },
   "source": [
    "Running the `SHOW TABLES` command confirms the addition of the temporary view to the list. The `isTemporary` column indicates its temporary nature. \n",
    "In addition, since it is a temporary object, it is not persisted to any database, as indicated by having no database specified in the database column."
   ]
  },
  {
   "cell_type": "code",
   "execution_count": 0,
   "metadata": {
    "application/vnd.databricks.v1+cell": {
     "cellMetadata": {
      "byteLimit": 2048000,
      "rowLimit": 10000
     },
     "inputWidgets": {},
     "nuid": "ec106c3c-38f5-4562-b9df-3e3a2365a022",
     "showTitle": false,
     "tableResultSettingsMap": {},
     "title": ""
    }
   },
   "outputs": [],
   "source": [
    "SHOW TABLES"
   ]
  },
  {
   "cell_type": "markdown",
   "metadata": {
    "application/vnd.databricks.v1+cell": {
     "cellMetadata": {},
     "inputWidgets": {},
     "nuid": "b9205cfc-d48d-4a90-8206-c25d73a4773e",
     "showTitle": false,
     "tableResultSettingsMap": {},
     "title": ""
    }
   },
   "source": [
    "### Global temporary views\n",
    "Global temporary views behave similarly to other temporary views but are tied to the cluster instead of a specific session. This means that as long as the cluster is running, any notebook attached to it can access its global temporary views. \n",
    "\n",
    "To define a global temporary view, you add the `GLOBAL TEMP` keyword to the `CREATE VIEW` command:\n",
    "\n",
    "`CREATE GLOBAL TEMP VIEW view_name AS <query>`\n",
    "\n",
    "For example, the following view retrieves all cars from our `cars` table released in 2022 or later, ordered in descending order:"
   ]
  },
  {
   "cell_type": "code",
   "execution_count": 0,
   "metadata": {
    "application/vnd.databricks.v1+cell": {
     "cellMetadata": {
      "byteLimit": 2048000,
      "rowLimit": 10000
     },
     "inputWidgets": {},
     "nuid": "ee0280bc-47ce-455b-ad01-9b000115717b",
     "showTitle": false,
     "tableResultSettingsMap": {},
     "title": ""
    }
   },
   "outputs": [],
   "source": [
    "CREATE GLOBAL TEMP VIEW global_temp_view_recent_cars AS SELECT * FROM cars WHERE year >= 2022 ORDER BY year DESC"
   ]
  },
  {
   "cell_type": "markdown",
   "metadata": {
    "application/vnd.databricks.v1+cell": {
     "cellMetadata": {},
     "inputWidgets": {},
     "nuid": "adfa4061-ac14-403a-a9d2-1047ef3c2d73",
     "showTitle": false,
     "tableResultSettingsMap": {},
     "title": ""
    }
   },
   "source": [
    "Global temporary views are stored in a cluster's temporary database, named `global_temp`. When querying a global table view in the `SELECT` statement, you need to specify the `global_temp` database qualifier:"
   ]
  },
  {
   "cell_type": "code",
   "execution_count": 0,
   "metadata": {
    "application/vnd.databricks.v1+cell": {
     "cellMetadata": {
      "byteLimit": 2048000,
      "rowLimit": 10000
     },
     "inputWidgets": {},
     "nuid": "de9dc00e-fb2c-4fe0-9170-0b70cb2de6b2",
     "showTitle": false,
     "tableResultSettingsMap": {},
     "title": ""
    }
   },
   "outputs": [],
   "source": [
    "SELECT * FROM global_temp.global_temp_view_recent_cars "
   ]
  },
  {
   "cell_type": "markdown",
   "metadata": {
    "application/vnd.databricks.v1+cell": {
     "cellMetadata": {},
     "inputWidgets": {},
     "nuid": "11572f81-f92c-4fd1-a90a-e30e7201f739",
     "showTitle": false,
     "tableResultSettingsMap": {},
     "title": ""
    }
   },
   "source": [
    "Since the global temporary views are tied to the `global_temp` database, we need to use the command `SHOW TABLES IN`, explicitly specifying the database name `global_temp`:"
   ]
  },
  {
   "cell_type": "code",
   "execution_count": 0,
   "metadata": {
    "application/vnd.databricks.v1+cell": {
     "cellMetadata": {
      "byteLimit": 2048000,
      "rowLimit": 10000
     },
     "inputWidgets": {},
     "nuid": "e82b1c98-a454-4bc2-92bc-1dd1d9c9fe70",
     "showTitle": false,
     "tableResultSettingsMap": {},
     "title": ""
    }
   },
   "outputs": [],
   "source": [
    "SHOW TABLES IN global_temp"
   ]
  },
  {
   "cell_type": "markdown",
   "metadata": {
    "application/vnd.databricks.v1+cell": {
     "cellMetadata": {},
     "inputWidgets": {},
     "nuid": "0439887d-bba6-4627-b0b4-42d733bac0fd",
     "showTitle": false,
     "tableResultSettingsMap": {},
     "title": ""
    }
   },
   "source": [
    "We can see the `global_temp_view_recent_cars`, which is indeed a temporary object tied to the `global_temp` database."
   ]
  },
  {
   "cell_type": "markdown",
   "metadata": {
    "application/vnd.databricks.v1+cell": {
     "cellMetadata": {},
     "inputWidgets": {},
     "nuid": "7b6f05eb-f522-45fa-a34c-908d201a3385",
     "showTitle": false,
     "tableResultSettingsMap": {},
     "title": ""
    }
   },
   "source": [
    "## Dropping Views\n",
    "Let's drop our stored view by running the `DROP VIEW` command, like in standard SQL:\n"
   ]
  },
  {
   "cell_type": "code",
   "execution_count": 0,
   "metadata": {
    "application/vnd.databricks.v1+cell": {
     "cellMetadata": {
      "byteLimit": 2048000,
      "rowLimit": 10000
     },
     "inputWidgets": {},
     "nuid": "8057107b-1444-416a-b348-128ccb67beec",
     "showTitle": false,
     "tableResultSettingsMap": {},
     "title": ""
    }
   },
   "outputs": [],
   "source": [
    "DROP VIEW view_tesla_cars"
   ]
  },
  {
   "cell_type": "markdown",
   "metadata": {
    "application/vnd.databricks.v1+cell": {
     "cellMetadata": {},
     "inputWidgets": {},
     "nuid": "a900fff7-fea8-43ea-b4be-b5f0c6453d8c",
     "showTitle": false,
     "tableResultSettingsMap": {},
     "title": ""
    }
   },
   "source": [
    "If you want to delete temporary views without waiting for the session to end or for the cluster to terminate, you can manually achieve this by using the `DROP VIEW` command as well:\n",
    "\n",
    "`DROP VIEW temp_view_cars_brands;\n",
    "DROP VIEW global_temp.global_temp_view_recent_cars;`"
   ]
  },
  {
   "cell_type": "code",
   "execution_count": 0,
   "metadata": {
    "application/vnd.databricks.v1+cell": {
     "cellMetadata": {},
     "inputWidgets": {},
     "nuid": "e3f332c7-aade-41e7-82c1-13e8c7243fa7",
     "showTitle": false,
     "tableResultSettingsMap": {},
     "title": ""
    }
   },
   "outputs": [],
   "source": []
  }
 ],
 "metadata": {
  "application/vnd.databricks.v1+notebook": {
   "computePreferences": null,
   "dashboards": [],
   "environmentMetadata": {
    "base_environment": "",
    "environment_version": "2"
   },
   "inputWidgetPreferences": null,
   "language": "sql",
   "notebookMetadata": {
    "mostRecentlyExecutedCommandWithImplicitDF": {
     "commandId": 8999768855776105,
     "dataframes": [
      "_sqldf"
     ]
    },
    "pythonIndentUnit": 4
   },
   "notebookName": "Module 1: Mastering Relational Entities in Databricks",
   "widgets": {}
  },
  "language_info": {
   "name": "sql"
  }
 },
 "nbformat": 4,
 "nbformat_minor": 0
}
