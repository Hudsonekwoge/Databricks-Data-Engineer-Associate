{
 "cells": [
  {
   "cell_type": "markdown",
   "metadata": {
    "application/vnd.databricks.v1+cell": {
     "cellMetadata": {},
     "inputWidgets": {},
     "nuid": "c5095d7f-0553-4857-a21d-8831f3066737",
     "showTitle": false,
     "tableResultSettingsMap": {},
     "title": ""
    }
   },
   "source": [
    "# Objectives\n",
    "- Querying data files\n",
    "- Writing to tables\n",
    "- Performing advanced ETL operations\n",
    "- Discover the potential of higher-order functions and user-defined functions (UDFs) in Spark SQL"
   ]
  },
  {
   "cell_type": "markdown",
   "metadata": {
    "application/vnd.databricks.v1+cell": {
     "cellMetadata": {},
     "inputWidgets": {},
     "nuid": "d49d8dba-0b0b-4182-a601-4d62034e8564",
     "showTitle": false,
     "tableResultSettingsMap": {},
     "title": ""
    }
   },
   "source": [
    "# Querying Data Files\n",
    "To initiate a file query, we use the SELECT * FROM syntax, followed by the file format and the path to the file. \n",
    "```sql\n",
    "SELECT * FROM file_format.`/path/to/file`\n",
    "```\n",
    "The filepath is specified between **backticks**, to prevent potential syntax errors and ensure the correct interpretation of the path. \n",
    "\n",
    "A filepath in this context can refer to \n",
    "- A single file\n",
    "- A wildcard character to simultaneously read multiple files; or\n",
    "- An entire directory, assuming that all files within that directory adhere to the same format and schema"
   ]
  },
  {
   "cell_type": "code",
   "execution_count": 0,
   "metadata": {
    "application/vnd.databricks.v1+cell": {
     "cellMetadata": {},
     "inputWidgets": {},
     "nuid": "70716425-5a09-4a5a-bde9-5ecfcc8a7b11",
     "showTitle": false,
     "tableResultSettingsMap": {},
     "title": ""
    }
   },
   "outputs": [],
   "source": []
  }
 ],
 "metadata": {
  "application/vnd.databricks.v1+notebook": {
   "computePreferences": null,
   "dashboards": [],
   "environmentMetadata": {
    "base_environment": "",
    "environment_version": "2"
   },
   "inputWidgetPreferences": null,
   "language": "sql",
   "notebookMetadata": {
    "pythonIndentUnit": 4
   },
   "notebookName": "Module 2: Transforming Data with Apache Spark",
   "widgets": {}
  },
  "language_info": {
   "name": "sql"
  }
 },
 "nbformat": 4,
 "nbformat_minor": 0
}
